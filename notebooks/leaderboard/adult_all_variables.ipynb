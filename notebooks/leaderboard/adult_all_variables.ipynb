{
 "cells": [
  {
   "cell_type": "code",
   "execution_count": null,
   "metadata": {},
   "outputs": [],
   "source": [
    "import logging\n",
    "import numpy as np\n",
    "import pandas as pd\n",
    "\n",
    "import sdgym\n",
    "from sdgym import benchmark\n",
    "from sdgym import load_dataset\n",
    "from sdgym.synthesizers.base import BaseSynthesizer\n",
    "from sdgym.synthesizers import (\n",
    "    CLBNSynthesizer, CTGANSynthesizer, IdentitySynthesizer, IndependentSynthesizer,\n",
    "    MedganSynthesizer, PrivBNSynthesizer, TableganSynthesizer, TVAESynthesizer,\n",
    "    UniformSynthesizer, VEEGANSynthesizer\n",
    ")\n",
    "\n",
    "from synthsonic.models.kde_utils import kde_smooth_peaks_1dim, kde_smooth_peaks\n",
    "from synthsonic.models.kde_copula_nn_pdf import KDECopulaNNPdf"
   ]
  },
  {
   "cell_type": "code",
   "execution_count": null,
   "metadata": {},
   "outputs": [],
   "source": [
    "logging.basicConfig(level=logging.INFO)"
   ]
  },
  {
   "cell_type": "code",
   "execution_count": null,
   "metadata": {},
   "outputs": [],
   "source": [
    "dataset_name = 'adult'"
   ]
  },
  {
   "cell_type": "code",
   "execution_count": null,
   "metadata": {},
   "outputs": [],
   "source": [
    "data, categorical_columns, ordinal_columns = load_dataset(dataset_name)"
   ]
  },
  {
   "cell_type": "code",
   "execution_count": null,
   "metadata": {},
   "outputs": [],
   "source": [
    "data.shape"
   ]
  },
  {
   "cell_type": "code",
   "execution_count": null,
   "metadata": {},
   "outputs": [],
   "source": [
    "categorical_columns, ordinal_columns"
   ]
  },
  {
   "cell_type": "markdown",
   "metadata": {},
   "source": [
    "# run sdgym"
   ]
  },
  {
   "cell_type": "code",
   "execution_count": null,
   "metadata": {},
   "outputs": [],
   "source": [
    "class KDECopulaNNPdf_Synthesizer(BaseSynthesizer):\n",
    "        def __init__(self, iterations):\n",
    "            self.random_state = 42\n",
    "\n",
    "        def fit(self, data, categorical_columns=tuple(), ordinal_columns=tuple()):\n",
    "            self.categorical_columns = categorical_columns\n",
    "            self.ordinal_columns = ordinal_columns\n",
    "            xdata = np.float64(data)\n",
    "\n",
    "            kde = KDECopulaNNPdf(\n",
    "                use_KDE=False, \n",
    "                categorical_columns=categorical_columns + ordinal_columns,\n",
    "                n_uniform_bins=30,\n",
    "                n_calibration_bins=100,\n",
    "                test_size=0.25,\n",
    "                random_state=self.random_state,\n",
    "            )\n",
    "            self.kde = kde.fit(xdata)\n",
    "    \n",
    "\n",
    "        def sample(self, samples):\n",
    "            X_gen = self.kde.sample_no_weights(\n",
    "                samples,\n",
    "                random_state=self.random_state + 10,\n",
    "            )\n",
    "\n",
    "            if len(self.categorical_columns) + len(self.ordinal_columns) > 0:\n",
    "                X_gen[:, self.categorical_columns + self.ordinal_columns] = np.round(\n",
    "                    X_gen[:, self.categorical_columns + self.ordinal_columns]\n",
    "                )\n",
    "\n",
    "            X_gen = np.float32(X_gen)\n",
    "            return X_gen"
   ]
  },
  {
   "cell_type": "code",
   "execution_count": null,
   "metadata": {},
   "outputs": [],
   "source": [
    "all_synthesizers = [\n",
    "    #IdentitySynthesizer,\n",
    "    #IndependentSynthesizer,\n",
    "    KDECopulaNNPdf_Synthesizer,\n",
    "]"
   ]
  },
  {
   "cell_type": "code",
   "execution_count": null,
   "metadata": {},
   "outputs": [],
   "source": [
    "scores = sdgym.run(synthesizers=all_synthesizers, datasets=[dataset_name], iterations=1, cache_dir='.')"
   ]
  },
  {
   "cell_type": "code",
   "execution_count": null,
   "metadata": {},
   "outputs": [],
   "source": [
    "scores"
   ]
  }
 ],
 "metadata": {
  "kernelspec": {
   "display_name": "Python 3",
   "language": "python",
   "name": "python3"
  },
  "language_info": {
   "codemirror_mode": {
    "name": "ipython",
    "version": 3
   },
   "file_extension": ".py",
   "mimetype": "text/x-python",
   "name": "python",
   "nbconvert_exporter": "python",
   "pygments_lexer": "ipython3",
   "version": "3.8.5"
  }
 },
 "nbformat": 4,
 "nbformat_minor": 4
}
