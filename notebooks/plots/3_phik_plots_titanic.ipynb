{
 "cells": [
  {
   "cell_type": "markdown",
   "id": "1b2b3881-7640-494c-89ec-0eb6bb17a44e",
   "metadata": {},
   "source": [
    "# Phik remaining structure plots\n",
    "\n",
    "This notebook generates the phik remaining structure plots on the titanic data, Fig 3 in the paper -- Synthsonic: Fast, Probabilistic modeling and Synthesis of Tabular Data\n",
    "\n",
    "\n",
    "The titanic set was chosen due to its limited number of columns, allowing clearer visualizations.\n",
    "Additionally it contains a mix of numerical and categorical variables that have non-linear dependencies"
   ]
  },
  {
   "cell_type": "code",
   "execution_count": null,
   "id": "wireless-internship",
   "metadata": {},
   "outputs": [],
   "source": [
    "import logging\n",
    "\n",
    "import scipy\n",
    "import numpy as np\n",
    "import pandas as pd\n",
    "import xgboost as xgb\n",
    "import matplotlib\n",
    "import matplotlib.pyplot as plt\n",
    "import matplotlib.colors as plt_colors\n",
    "import matplotlib.transforms as transforms\n",
    "import seaborn as sns\n",
    "\n",
    "from sklearn.utils import check_array\n",
    "from sklearn.utils.validation import FLOAT_DTYPES\n",
    "\n",
    "import phik\n",
    "from phik import phik\n",
    "from phik import config\n",
    "from phik.phik import phik_matrix\n",
    "from phik.phik import phik_from_binned_array\n",
    "from phik.report import plot_correlation_matrix as phi_plot_correlation_matrix\n",
    "\n",
    "from synthsonic.models.phik_utils import phik_matrix\n",
    "from synthsonic.models.kde_copula_nn_pdf import KDECopulaNNPdf"
   ]
  },
  {
   "cell_type": "markdown",
   "id": "ae57ed1d-e28a-4eae-81c4-cfa93b7e55e3",
   "metadata": {},
   "source": [
    "## Config"
   ]
  },
  {
   "cell_type": "code",
   "execution_count": null,
   "id": "44b1d0d0-9920-4e07-be0e-eb1e428d8204",
   "metadata": {},
   "outputs": [],
   "source": [
    "SAVE_PLOTS = False"
   ]
  },
  {
   "cell_type": "code",
   "execution_count": null,
   "id": "34d502ff-e74e-40a8-92b5-d388e469d391",
   "metadata": {},
   "outputs": [],
   "source": [
    "logging.basicConfig(level=logging.INFO)"
   ]
  },
  {
   "cell_type": "code",
   "execution_count": null,
   "id": "fafdec63-81e3-4408-acd7-fdc341f24d58",
   "metadata": {},
   "outputs": [],
   "source": [
    "matplotlib.rcParams['pdf.fonttype'] = 42\n",
    "matplotlib.rcParams['ps.fonttype'] = 42\n",
    "plt.rcParams['text.color'] = 'black'\n",
    "plt.rcParams['figure.max_open_warning'] = 0\n",
    "colors = [i['color'] for i in plt.rcParams['axes.prop_cycle']]\n",
    "markers = ['o', 's', 'p', 'x', '^', '+', '*', '<', 'D', 'h', '>']\n",
    "%matplotlib inline"
   ]
  },
  {
   "cell_type": "markdown",
   "id": "0cc0f4d0-33be-43bb-b387-cf80fbdf2f79",
   "metadata": {},
   "source": [
    "### Plotting funcs"
   ]
  },
  {
   "cell_type": "code",
   "execution_count": null,
   "id": "ebcb1c33-9bf7-47e1-88f2-9ae889725862",
   "metadata": {},
   "outputs": [],
   "source": [
    "def split_figure_vertical(figsize_1, frac, rect_1, rect_2):\n",
    "    \"\"\"\n",
    "    figsize_1 is the size of the figure without the color bar\n",
    "    frac is the additional width used for the color bar as fraction of original size\n",
    "    rect_1, rect_2 define where the plotting area and color bar are located\n",
    "    in their respective sections of the figure\n",
    "    \"\"\"\n",
    "    additional_width = figsize_1[0] * frac\n",
    "    oldWidth_1 = figsize_1[0]\n",
    "    newWidth = oldWidth_1 + additional_width\n",
    "    factor_1 = oldWidth_1 / newWidth\n",
    "    factor_2 = additional_width / newWidth\n",
    "\n",
    "    figsize = (newWidth, figsize_1[1])\n",
    "\n",
    "    fig = plt.figure(figsize=figsize)\n",
    "\n",
    "    rect_1[0] *= factor_1\n",
    "    rect_1[2] *= factor_1\n",
    "\n",
    "    rect_2[0] *= factor_2\n",
    "    rect_2[2] *= factor_2\n",
    "    rect_2[0] += factor_1\n",
    "\n",
    "    ax1 = fig.add_axes(rect_1)\n",
    "    ax2 = fig.add_axes(rect_2)\n",
    "\n",
    "    return fig, ax1, ax2"
   ]
  },
  {
   "cell_type": "code",
   "execution_count": null,
   "id": "756b86f7-d141-4086-807f-7b1d0b838bb8",
   "metadata": {},
   "outputs": [],
   "source": [
    "def plot_correlation_matrix(\n",
    "    matrix_colors:np.ndarray,\n",
    "    x_labels:list,\n",
    "    y_labels:list,\n",
    "    fig,\n",
    "    ax,\n",
    "    pdf_file_name:str='',\n",
    "    title:str='correlation',\n",
    "    vmin:float=-1,\n",
    "    vmax:float=1,\n",
    "    color_map:str='RdYlGn',\n",
    "    x_label:str='',\n",
    "    y_label:str='',\n",
    "    top:int=20,\n",
    "    matrix_numbers:np.ndarray=None,\n",
    "    print_both_numbers:bool=True,\n",
    "    usetex:bool=False,\n",
    "    identity_layout:bool=True,\n",
    "    fontsize_factor:float=1\n",
    ") -> None:\n",
    "    \"\"\"Create and plot correlation matrix.\n",
    "\n",
    "    Copied with permission from the eskapade package (pip install eskapade)\n",
    "\n",
    "    :param matrix_colors: input correlation matrix\n",
    "    :param list x_labels: Labels for histogram x-axis bins\n",
    "    :param list y_labels: Labels for histogram y-axis bins\n",
    "    :param str pdf_file_name: if set, will store the plot in a pdf file\n",
    "    :param str title: if set, title of the plot\n",
    "    :param float vmin: minimum value of color legend (default is -1)\n",
    "    :param float vmax: maximum value of color legend (default is +1)\n",
    "    :param str x_label: Label for histogram x-axis\n",
    "    :param str y_label: Label for histogram y-axis\n",
    "    :param str color_map: color map passed to matplotlib pcolormesh. (default is 'RdYlGn')\n",
    "    :param int top: only print the top 20 characters of x-labels and y-labels. (default is 20)\n",
    "    :param matrix_numbers: input matrix used for plotting numbers. (default it matrix_colors)\n",
    "    :param identity_layout: Plot diagonal from right top to bottom left (True) or bottom left to top right (False)\n",
    "    \"\"\"\n",
    "    if not isinstance(matrix_colors, np.ndarray):\n",
    "        raise TypeError('matrix_colors is not a numpy array.')\n",
    "    \n",
    "    # basic matrix checks\n",
    "    assert (matrix_colors.shape[0] == len(y_labels)) or (matrix_colors.shape[0] + 1 == len(y_labels)), \\\n",
    "        'matrix_colors shape inconsistent with number of y-labels'\n",
    "    assert (matrix_colors.shape[1] == len(x_labels)) or (matrix_colors.shape[1] + 1 == len(x_labels)), \\\n",
    "        'matrix_colors shape inconsistent with number of x-labels'\n",
    "    if matrix_numbers is None:\n",
    "        matrix_numbers = matrix_colors\n",
    "        print_both_numbers = False  # only one set of numbers possible\n",
    "    else:\n",
    "        assert matrix_numbers.shape[0] == len(y_labels), 'matrix_numbers shape inconsistent with number of y-labels'\n",
    "        assert matrix_numbers.shape[1] == len(x_labels), 'matrix_numbers shape inconsistent with number of x-labels'\n",
    "\n",
    "    if identity_layout:\n",
    "        matrix_colors = np.array([a[::-1] for a in matrix_colors])\n",
    "        x_labels = x_labels[::-1]\n",
    "        if matrix_numbers is not None:\n",
    "            matrix_numbers = np.array([a[::-1] for a in matrix_numbers])\n",
    "\n",
    "    plt.rc('text', usetex=usetex)\n",
    "\n",
    "    norm = plt_colors.Normalize(vmin=vmin, vmax=vmax)\n",
    "    img = ax.pcolormesh(matrix_colors, cmap=color_map, edgecolor='w', linewidth=1, norm=norm)\n",
    "\n",
    "    # set x-axis properties\n",
    "    def tick(lab):\n",
    "        \"\"\"Get tick.\"\"\"\n",
    "        if isinstance(lab, (float, int)):\n",
    "            lab = 'NaN' if np.isnan(lab) else '{0:.0f}'.format(lab)\n",
    "        lab = str(lab)\n",
    "        if len(lab) > top:\n",
    "            lab = lab[:17] + '...'\n",
    "        return lab\n",
    "\n",
    "    # axis ticks and tick labels\n",
    "    if len(x_labels) == matrix_colors.shape[1] + 1:\n",
    "        ax.set_xticks(np.arange(len(x_labels)))\n",
    "    else:\n",
    "        ax.set_xticks(np.arange(len(x_labels)) + 0.5)\n",
    "    ax.set_xticklabels([tick(lab) for lab in x_labels], rotation='vertical', fontsize=10 * fontsize_factor)\n",
    "\n",
    "    if len(y_labels) == matrix_colors.shape[0] + 1:\n",
    "        ax.set_yticks(np.arange(len(y_labels)))\n",
    "    else:\n",
    "        ax.set_yticks(np.arange(len(y_labels)) + 0.5)\n",
    "    ax.set_yticklabels([tick(lab) for lab in y_labels], rotation='horizontal', fontsize=10 * fontsize_factor)\n",
    "\n",
    "    # Turn ticks off in case no labels are provided\n",
    "    if len(x_labels)==1 and len(x_labels[0]) == 0:\n",
    "        plt.tick_params(\n",
    "            axis='x',  # changes apply to the x-axis\n",
    "            which='both',  # both major and minor ticks are affected\n",
    "            bottom=False,  # ticks along the bottom edge are off\n",
    "            top=False,  # ticks along the top edge are off\n",
    "            labelbottom=False)\n",
    "    if len(y_labels)==1 and len(y_labels[0]) == 0:\n",
    "        plt.tick_params(\n",
    "            axis='y',  # changes apply to the x-axis\n",
    "            which='both',  # both major and minor ticks are affected\n",
    "            left=False,  # ticks along the bottom edge are off\n",
    "            right=False,  # ticks along the top edge are off\n",
    "            labelbottom=False)\n",
    "\n",
    "    # make plot look pretty\n",
    "    ax.set_title(title, fontsize=14 * fontsize_factor)\n",
    "    if x_label:\n",
    "        ax.set_xlabel(x_label, fontsize=12 * fontsize_factor)\n",
    "    if y_label:\n",
    "        ax.set_ylabel(y_label, fontsize=12 * fontsize_factor)\n",
    "\n",
    "    # annotate with correlation values\n",
    "    numbers_set = [matrix_numbers] if not print_both_numbers else [matrix_numbers, matrix_colors]\n",
    "    for i in range(matrix_numbers.shape[1]):\n",
    "        for j in range(matrix_numbers.shape[0]):\n",
    "            point_color = float(matrix_colors[j][i])\n",
    "            white_cond = (point_color < 0.7 * vmin) or (point_color >= 0.7 * vmax) or np.isnan(point_color)\n",
    "            y_offset = 0.5\n",
    "            for m, matrix in enumerate(numbers_set):\n",
    "                if print_both_numbers:\n",
    "                    if m == 0:\n",
    "                        y_offset = 0.7\n",
    "                    elif m == 1:\n",
    "                        y_offset = 0.25\n",
    "                point = float(matrix[j][i])\n",
    "                label = 'NaN' if np.isnan(point) else '{0:.2f}'.format(point)\n",
    "                color = 'w' if white_cond else 'k'\n",
    "                ax.annotate(label, xy=(i + 0.5, j + y_offset), color=color, horizontalalignment='center',\n",
    "                            verticalalignment='center', fontsize=10 * fontsize_factor)"
   ]
  },
  {
   "cell_type": "markdown",
   "id": "dated-native",
   "metadata": {},
   "source": [
    "## Data set -- Titanic"
   ]
  },
  {
   "cell_type": "code",
   "execution_count": null,
   "id": "59fcb768-5feb-493b-b907-e5d857b662e6",
   "metadata": {},
   "outputs": [],
   "source": [
    "data_set = 'titanic'"
   ]
  },
  {
   "cell_type": "code",
   "execution_count": null,
   "id": "meaningful-patio",
   "metadata": {},
   "outputs": [],
   "source": [
    "df = pd.read_csv('titanic.csv.gz')\n",
    "df.info()"
   ]
  },
  {
   "cell_type": "code",
   "execution_count": null,
   "id": "facial-agriculture",
   "metadata": {},
   "outputs": [],
   "source": [
    "df.head()"
   ]
  },
  {
   "cell_type": "code",
   "execution_count": null,
   "id": "north-penny",
   "metadata": {},
   "outputs": [],
   "source": [
    "df = df.drop(columns=['Name'])"
   ]
  },
  {
   "cell_type": "code",
   "execution_count": null,
   "id": "august-affair",
   "metadata": {},
   "outputs": [],
   "source": [
    "df_num = df.copy()\n",
    "for c in ['Sex']:\n",
    "    codes, uniques = pd.factorize(df[c])\n",
    "    df_num[c] = codes"
   ]
  },
  {
   "cell_type": "code",
   "execution_count": null,
   "id": "strategic-hamilton",
   "metadata": {},
   "outputs": [],
   "source": [
    "df_num.head()"
   ]
  },
  {
   "cell_type": "code",
   "execution_count": null,
   "id": "difficult-moisture",
   "metadata": {},
   "outputs": [],
   "source": [
    "df_num.phik_matrix(interval_cols=['Age', 'Fare'])"
   ]
  },
  {
   "cell_type": "markdown",
   "id": "8cb9429b-f97f-4906-a6af-ac5d8049dd29",
   "metadata": {},
   "source": [
    "## Fit"
   ]
  },
  {
   "cell_type": "code",
   "execution_count": null,
   "id": "859418c9-c963-42f5-82c9-487305946d9c",
   "metadata": {},
   "outputs": [],
   "source": [
    "clf = xgb.XGBClassifier(\n",
    "    n_estimators=100,\n",
    "    reg_lambda=1,\n",
    "    gamma=0,\n",
    "    max_depth=5\n",
    ")"
   ]
  },
  {
   "cell_type": "code",
   "execution_count": null,
   "id": "genetic-divorce",
   "metadata": {},
   "outputs": [],
   "source": [
    "cat_cols_idx = [0, 1, 2, 4, 5]\n",
    "num_cols_idx = [3, 6]"
   ]
  },
  {
   "cell_type": "code",
   "execution_count": null,
   "id": "3896ec09-a15d-4c07-9cca-fbda9a3a2f3b",
   "metadata": {},
   "outputs": [],
   "source": [
    "kde = KDECopulaNNPdf(\n",
    "    use_KDE=False,\n",
    "    estimator_type='tan',\n",
    "    n_uniform_bins=10,\n",
    "    numerical_columns=num_cols_idx,\n",
    "    categorical_columns=cat_cols_idx,\n",
    "    n_quantiles=100,\n",
    "    n_calibration_bins=40,\n",
    "    root_node=0\n",
    ")"
   ]
  },
  {
   "cell_type": "code",
   "execution_count": null,
   "id": "3ec88a3c-7a9c-49b9-9a7a-4a30c195323d",
   "metadata": {},
   "outputs": [],
   "source": [
    "kde = kde.fit(df_num.values)"
   ]
  },
  {
   "cell_type": "code",
   "execution_count": null,
   "id": "connected-mountain",
   "metadata": {},
   "outputs": [],
   "source": [
    "kde._calibrate_classifier(kde.hist_p0_, kde.hist_p1_, kde.bin_edges_, validation_plots=True)"
   ]
  },
  {
   "cell_type": "markdown",
   "id": "e2e1c515-c247-415e-84e3-0d5a869ea074",
   "metadata": {},
   "source": [
    "## Weighted sample"
   ]
  },
  {
   "cell_type": "code",
   "execution_count": null,
   "id": "seventh-orleans",
   "metadata": {},
   "outputs": [],
   "source": [
    "X = df_num.values"
   ]
  },
  {
   "cell_type": "code",
   "execution_count": null,
   "id": "several-packet",
   "metadata": {},
   "outputs": [],
   "source": [
    "X_bn = kde._transform_and_slice(X, discretize=True)"
   ]
  },
  {
   "cell_type": "code",
   "execution_count": null,
   "id": "committed-brunei",
   "metadata": {},
   "outputs": [],
   "source": [
    "X_noweight = kde._sample_bayesian_network(size=100*X.shape[0], add_uniform=False)"
   ]
  },
  {
   "cell_type": "code",
   "execution_count": null,
   "id": "9dc0b812-043c-4353-a8a5-aeead3992f1d",
   "metadata": {},
   "outputs": [],
   "source": [
    "kde.nonlinear_indices_"
   ]
  },
  {
   "cell_type": "code",
   "execution_count": null,
   "id": "flying-workstation",
   "metadata": {},
   "outputs": [],
   "source": [
    "X_weighted = kde._transform_and_slice(kde.sample_no_weights(n_samples=100*X.shape[0]), discretize=True)"
   ]
  },
  {
   "cell_type": "code",
   "execution_count": null,
   "id": "afraid-bibliography",
   "metadata": {},
   "outputs": [],
   "source": [
    "X_bn.shape, X_noweight.shape, X_weighted.shape"
   ]
  },
  {
   "cell_type": "code",
   "execution_count": null,
   "id": "premium-forestry",
   "metadata": {},
   "outputs": [],
   "source": [
    "i = 6\n",
    "plt.hist(X_bn[:, i], bins=10, density=True, alpha=0.5)\n",
    "plt.hist(X_noweight[:, i], bins=10, density=True, alpha=0.5);"
   ]
  },
  {
   "cell_type": "markdown",
   "id": "908b02e3-49a3-4eec-aa9a-04fe369e291f",
   "metadata": {},
   "source": [
    "## Heatmap plots"
   ]
  },
  {
   "cell_type": "markdown",
   "id": "9b36a84f-7ece-498a-8418-ee28f7501c84",
   "metadata": {},
   "source": [
    "Shorten long column names"
   ]
  },
  {
   "cell_type": "code",
   "execution_count": null,
   "id": "37ac863f-c85e-4ac0-8996-c8c538d36176",
   "metadata": {},
   "outputs": [],
   "source": [
    "df = df.rename(columns={'Siblings/Spouses Aboard': 'Sib...Aboard', 'Parents/Children Aboard': 'Par...Aboard'})"
   ]
  },
  {
   "cell_type": "markdown",
   "id": "04e96ff1-fe0c-4291-8ed9-c59e43cbf3c9",
   "metadata": {},
   "source": [
    "mark discretized columns with names"
   ]
  },
  {
   "cell_type": "code",
   "execution_count": null,
   "id": "164e6fb1-e2a4-43ac-9013-0635e734a759",
   "metadata": {},
   "outputs": [],
   "source": [
    "columns = df.columns.to_list()\n",
    "columns[3] = '$X_{bn}[0]$'\n",
    "columns[6] = '$X_{bn}[1]$'"
   ]
  },
  {
   "cell_type": "code",
   "execution_count": null,
   "id": "eba5fad7-fe3a-45c9-b2bb-c783ce30d4c7",
   "metadata": {},
   "outputs": [],
   "source": [
    "df_bn = pd.DataFrame(X_bn)\n",
    "pkd = df_bn.phik_matrix(interval_cols=[])\n",
    "\n",
    "vmin = 0\n",
    "vmax = 1\n",
    "color_map = 'Blues'\n",
    "norm = plt_colors.Normalize(vmin=vmin, vmax=vmax)\n",
    "img = plt.pcolormesh(pkd.values, cmap=color_map, edgecolor='w', linewidth=1, norm=norm);"
   ]
  },
  {
   "cell_type": "code",
   "execution_count": null,
   "id": "a56e5b26-870a-44bd-b920-36df2637a3b4",
   "metadata": {},
   "outputs": [],
   "source": [
    "pk_or = df.phik_matrix(interval_cols=['Fare', 'Age'])"
   ]
  },
  {
   "cell_type": "code",
   "execution_count": null,
   "id": "e5bd57d6-5c23-438d-b4a8-f78542944bc6",
   "metadata": {},
   "outputs": [],
   "source": [
    "figsize = (7, 7)\n",
    "rect = [0.2, 0.2, 0.7, 0.7]\n",
    "\n",
    "fig = plt.figure(figsize=figsize)\n",
    "ax1 = fig.add_axes(rect)\n",
    "\n",
    "plot_correlation_matrix(\n",
    "    pk_or.values,\n",
    "    fig=fig,\n",
    "    ax=ax1,\n",
    "    x_labels=df.columns.to_list(),\n",
    "    y_labels=df.columns.to_list(), \n",
    "    vmin=vmin,\n",
    "    vmax=vmax,\n",
    "    color_map=color_map,\n",
    "    title=r'$\\phi_K$ Original',\n",
    "    fontsize_factor=1.9,\n",
    ")\n",
    "#ax1.set_yticklabels(ax1.get_yticklabels(), rotation=45)\n",
    "if SAVE_PLOTS:\n",
    "    fig.savefig(f'{data_set}_phik_original.pdf', dpi=600, bbox_inches='tight')"
   ]
  },
  {
   "cell_type": "markdown",
   "id": "b5449d34-326d-4ee1-b5ac-2cf0ec8702a9",
   "metadata": {},
   "source": [
    "### Bayesian network"
   ]
  },
  {
   "cell_type": "code",
   "execution_count": null,
   "id": "52dc2131-630c-49c4-97f2-efc7d45bb25c",
   "metadata": {},
   "outputs": [],
   "source": [
    "pku = phik_matrix(X_bn, X_noweight)"
   ]
  },
  {
   "cell_type": "code",
   "execution_count": null,
   "id": "84074cfb-c357-41e8-b056-d5cbfe3ddb69",
   "metadata": {},
   "outputs": [],
   "source": [
    "figsize = (7, 7)\n",
    "rect = [0.2, 0.2, 0.7, 0.7]\n",
    "\n",
    "fig = plt.figure(figsize=figsize)\n",
    "ax1 = fig.add_axes(rect)\n",
    "\n",
    "plot_correlation_matrix(\n",
    "    pku.values,\n",
    "    fig=fig,\n",
    "    ax=ax1,\n",
    "    x_labels=columns,\n",
    "    y_labels=columns, \n",
    "    vmin=vmin,\n",
    "    vmax=vmax,\n",
    "    color_map=color_map,\n",
    "    title=r'$\\phi_K$ Copula Bayesian Network',\n",
    "    fontsize_factor=1.9,\n",
    ")\n",
    "ax1.set_yticklabels([])\n",
    "if SAVE_PLOTS:\n",
    "    fig.savefig(f'{data_set}_phik_copula_bn.pdf', dpi=600, bbox_inches='tight')"
   ]
  },
  {
   "cell_type": "markdown",
   "id": "64feb95b-33e9-45d9-8b73-ca8e3de418b6",
   "metadata": {},
   "source": [
    "### Calibrated classifier"
   ]
  },
  {
   "cell_type": "code",
   "execution_count": null,
   "id": "36c53283-c2b4-4647-85fd-09bc05f5ea81",
   "metadata": {},
   "outputs": [],
   "source": [
    "pkw = phik_matrix(X_bn, X_weighted)"
   ]
  },
  {
   "cell_type": "code",
   "execution_count": null,
   "id": "dbc099b4-7469-4c43-a278-8bd7694f93ea",
   "metadata": {
    "tags": []
   },
   "outputs": [],
   "source": [
    "figsize = (7, 7)\n",
    "rect = [0.2, 0.2, 0.7, 0.7]\n",
    "\n",
    "fig, ax1, ax2 = split_figure_vertical(figsize, 0.1, rect, [-0.4, 0.2, 0.7, 0.7])\n",
    "plot_correlation_matrix(\n",
    "    pkw.values,\n",
    "    fig=fig,\n",
    "    ax=ax1,\n",
    "    x_labels=columns,\n",
    "    y_labels=columns, \n",
    "    vmin=vmin,\n",
    "    vmax=vmax,\n",
    "    color_map=color_map,\n",
    "    title=r'$\\phi_K$ calibrated learner',\n",
    "    fontsize_factor=1.9,\n",
    ")\n",
    "ax1.set_yticklabels([])\n",
    "cb = plt.colorbar(img, cax=ax2, pad=0.01)\n",
    "cb.ax.tick_params(labelsize=15)\n",
    "if SAVE_PLOTS:\n",
    "    fig.savefig(f'{data_set}_phik_calibrated_learner.pdf', dpi=600, bbox_inches='tight')"
   ]
  }
 ],
 "metadata": {
  "kernelspec": {
   "display_name": "Python 3",
   "language": "python",
   "name": "python3"
  },
  "language_info": {
   "codemirror_mode": {
    "name": "ipython",
    "version": 3
   },
   "file_extension": ".py",
   "mimetype": "text/x-python",
   "name": "python",
   "nbconvert_exporter": "python",
   "pygments_lexer": "ipython3",
   "version": "3.8.10"
  }
 },
 "nbformat": 4,
 "nbformat_minor": 5
}
