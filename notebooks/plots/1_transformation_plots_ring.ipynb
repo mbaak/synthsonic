{
 "cells": [
  {
   "cell_type": "markdown",
   "metadata": {},
   "source": [
    "# Numerical transformations plots on the ring dataset\n",
    "\n",
    "This notebook generates the Numerical transformations plots on the titanic data, Fig 1 in the paper -- Synthsonic: Fast, Probabilistic modeling and Synthesis of Tabular Data"
   ]
  },
  {
   "cell_type": "code",
   "execution_count": null,
   "metadata": {},
   "outputs": [],
   "source": [
    "import logging\n",
    "\n",
    "import numpy as np\n",
    "import pandas as pd\n",
    "import xgboost as xgb\n",
    "import seaborn as sns\n",
    "from sdgym import load_dataset\n",
    "from pgmpy.models import BayesianModel\n",
    "from pgmpy.estimators import TreeSearch\n",
    "from pgmpy.sampling import BayesianModelSampling\n",
    "from pgmpy.inference import BayesianModelProbability\n",
    "\n",
    "import matplotlib\n",
    "import matplotlib.pyplot as plt\n",
    "import matplotlib.ticker as ticker\n",
    "from matplotlib.gridspec import GridSpec\n",
    "\n",
    "from synthsonic.models.kde_copula_nn_pdf import KDECopulaNNPdf"
   ]
  },
  {
   "cell_type": "markdown",
   "metadata": {},
   "source": [
    "## Config"
   ]
  },
  {
   "cell_type": "code",
   "execution_count": null,
   "metadata": {},
   "outputs": [],
   "source": [
    "SAVE_PLOTS = False"
   ]
  },
  {
   "cell_type": "code",
   "execution_count": null,
   "metadata": {},
   "outputs": [],
   "source": [
    "logging.basicConfig(level=logging.INFO)"
   ]
  },
  {
   "cell_type": "code",
   "execution_count": null,
   "metadata": {},
   "outputs": [],
   "source": [
    "matplotlib.rcParams['pdf.fonttype'] = 42\n",
    "matplotlib.rcParams['ps.fonttype'] = 42\n",
    "plt.rcParams['text.color'] = 'black'\n",
    "plt.rcParams['figure.max_open_warning'] = 0\n",
    "colors = [i['color'] for i in plt.rcParams['axes.prop_cycle']]\n",
    "markers = ['o', 's', 'p', 'x', '^', '+', '*', '<', 'D', 'h', '>']\n",
    "%matplotlib inline"
   ]
  },
  {
   "cell_type": "markdown",
   "metadata": {},
   "source": [
    "## Dataset"
   ]
  },
  {
   "cell_type": "code",
   "execution_count": null,
   "metadata": {},
   "outputs": [],
   "source": [
    "dataset_name = 'ring'\n",
    "data, categorical_columns, ordinal_columns = load_dataset(dataset_name)\n",
    "\n",
    "df = pd.DataFrame(data, columns=['x', 'y'])"
   ]
  },
  {
   "cell_type": "markdown",
   "metadata": {},
   "source": [
    "## Fit"
   ]
  },
  {
   "cell_type": "code",
   "execution_count": null,
   "metadata": {},
   "outputs": [],
   "source": [
    "# clf = xgb.XGBClassifier(\n",
    "#     n_estimators=100,\n",
    "#     reg_lambda=1,\n",
    "#     gamma=0,\n",
    "#     max_depth=3\n",
    "# )"
   ]
  },
  {
   "cell_type": "code",
   "execution_count": null,
   "metadata": {},
   "outputs": [],
   "source": [
    "kde = KDECopulaNNPdf(\n",
    "    use_KDE=False,\n",
    "    n_uniform_bins=100,\n",
    "    n_quantiles=1000,\n",
    ")\n",
    "kde = kde.fit(data)"
   ]
  },
  {
   "cell_type": "markdown",
   "metadata": {},
   "source": [
    "## Plots"
   ]
  },
  {
   "cell_type": "markdown",
   "metadata": {},
   "source": [
    "#### Fig 1a -- original data"
   ]
  },
  {
   "cell_type": "code",
   "execution_count": null,
   "metadata": {},
   "outputs": [],
   "source": [
    "axs = sns.JointGrid(data=df, x='x', y='y', height=7)\n",
    "axs.ax_joint.scatter(data=df, x='x', y='y', c=colors[0], marker='x', s=0.3)\n",
    "cnt, bins, _ = axs.ax_marg_x.hist(df['x'], bins=50, color=colors[0])\n",
    "cnt, bins, _ = axs.ax_marg_y.hist(df['y'], bins=50, color=colors[0], orientation='horizontal')\n",
    "axs.ax_joint.tick_params(labelsize=14)\n",
    "axs.ax_joint.set_xlabel('')\n",
    "axs.ax_joint.set_ylabel('')\n",
    "axs.ax_joint.set_xlim(-2.0, 2.0)\n",
    "axs.ax_joint.set_ylim(-2.0, 2.0)\n",
    "axs.ax_joint.yaxis.set_ticks([-2, -2,  -1, 0, 1, 2])\n",
    "axs.ax_joint.xaxis.set_ticks([-2, -2,  -1, 0, 1, 2])\n",
    "if SAVE_PLOTS:\n",
    "    axs.savefig(f'{dataset_name}_joint_marginal_data.pdf', dpi=600, bbox_inches='tight')"
   ]
  },
  {
   "cell_type": "markdown",
   "metadata": {},
   "source": [
    "#### Fig 1b quantile transformation to Gaussian"
   ]
  },
  {
   "cell_type": "code",
   "execution_count": null,
   "metadata": {},
   "outputs": [],
   "source": [
    "X_g = kde.pipe_[0].transform(data)\n",
    "tdf = pd.DataFrame(X_g, columns=['x', 'y'])"
   ]
  },
  {
   "cell_type": "code",
   "execution_count": null,
   "metadata": {},
   "outputs": [],
   "source": [
    "axs = sns.JointGrid(data=tdf, x='x', y='y', height=7)\n",
    "axs.ax_joint.scatter(data=tdf, x='x', y='y', c=colors[0], marker='x', s=0.3)\n",
    "cnt, bins, _ = axs.ax_marg_x.hist(tdf['x'], bins='auto', color=colors[0])\n",
    "cnt, bins, _ = axs.ax_marg_y.hist(tdf['y'], bins='auto', color=colors[0], orientation='horizontal')\n",
    "axs.ax_joint.tick_params(labelsize=14)\n",
    "axs.ax_joint.set_xlabel('')\n",
    "axs.ax_joint.set_ylabel('')\n",
    "if SAVE_PLOTS:\n",
    "    axs.savefig(f'{dataset_name}_joint_marginal_quantile.pdf', dpi=600, bbox_inches='tight')"
   ]
  },
  {
   "cell_type": "markdown",
   "metadata": {},
   "source": [
    "Fig 1c PC rotation"
   ]
  },
  {
   "cell_type": "code",
   "execution_count": null,
   "metadata": {},
   "outputs": [],
   "source": [
    "X_p = kde.pipe_[0:2].transform(data)\n",
    "tdf = pd.DataFrame(X_p, columns=['x', 'y'])"
   ]
  },
  {
   "cell_type": "code",
   "execution_count": null,
   "metadata": {},
   "outputs": [],
   "source": [
    "axs = sns.JointGrid(data=tdf, x='x', y='y', height=7)\n",
    "axs.ax_joint.scatter(data=tdf, x='x', y='y', c=colors[0], marker='x', s=0.3)\n",
    "cnt, bins, _ = axs.ax_marg_x.hist(tdf['x'], bins='auto', color=colors[0])\n",
    "cnt, bins, _ = axs.ax_marg_y.hist(tdf['y'], bins='auto', color=colors[0], orientation='horizontal')\n",
    "axs.ax_joint.tick_params(labelsize=14)\n",
    "axs.ax_joint.set_xlabel('')\n",
    "axs.ax_joint.set_ylabel('')\n",
    "if SAVE_PLOTS:\n",
    "    axs.savefig(f'{dataset_name}_joint_marginal_pca.pdf', dpi=600, bbox_inches='tight')"
   ]
  },
  {
   "cell_type": "markdown",
   "metadata": {},
   "source": [
    "#### Fig 1d Quantile transformation to uniform"
   ]
  },
  {
   "cell_type": "code",
   "execution_count": null,
   "metadata": {},
   "outputs": [],
   "source": [
    "X_u = kde.pipe_.transform(data)\n",
    "tdf = pd.DataFrame(X_u, columns=['x', 'y'])"
   ]
  },
  {
   "cell_type": "code",
   "execution_count": null,
   "metadata": {},
   "outputs": [],
   "source": [
    "axs = sns.JointGrid(data=tdf, x='x', y='y', height=7)\n",
    "axs.ax_joint.scatter(data=tdf, x='x', y='y', c=colors[0], marker='x', s=0.3)\n",
    "cnt, bins, _ = axs.ax_marg_x.hist(tdf['x'], bins='auto', color=colors[0])\n",
    "cnt, bins, _ = axs.ax_marg_y.hist(tdf['y'], bins='auto', color=colors[0], orientation='horizontal')\n",
    "axs.ax_joint.tick_params(labelsize=14)\n",
    "axs.ax_joint.set_xlabel('')\n",
    "axs.ax_joint.set_ylabel('')\n",
    "if SAVE_PLOTS:\n",
    "    axs.savefig(f'{dataset_name}_joint_marginal_uniform.pdf', dpi=600, bbox_inches='tight')"
   ]
  },
  {
   "cell_type": "markdown",
   "metadata": {},
   "source": [
    "#### Fig 1f synthetic sample"
   ]
  },
  {
   "cell_type": "code",
   "execution_count": null,
   "metadata": {},
   "outputs": [],
   "source": [
    "df = pd.DataFrame(data, columns=['x', 'y'])\n",
    "\n",
    "X_gen = kde.sample_no_weights(df.shape[0] * 10)\n",
    "df_gen = pd.DataFrame(X_gen, columns=['x', 'y']).sample(n=df.shape[0])"
   ]
  },
  {
   "cell_type": "code",
   "execution_count": null,
   "metadata": {},
   "outputs": [],
   "source": [
    "axs = sns.JointGrid(data=df_gen, x='x', y='y', height=7)\n",
    "sns.kdeplot(data=df['x'], data2=df['y'], color=colors[0], ax=axs.ax_joint, label=r'$X$', shade=False, shade_lowest=False)\n",
    "sns.kdeplot(data=df_gen['x'], data2=df_gen['y'], color=colors[1], ax=axs.ax_joint, label=r'$X_{\\rm syn}$', zorder=10, shade=False, shade_lowest=False)\n",
    "#axs.ax_joint.scatter(data=df_gen, x='x', y='y', c=colors[1], marker='x', alpha=0.9, s=0.3, label='generated')\n",
    "axs.ax_joint.set_xlabel('')\n",
    "axs.ax_joint.set_ylabel('')\n",
    "axs.ax_joint.legend(fontsize=16)\n",
    "\n",
    "cnt, bins, _ = axs.ax_marg_x.hist(df['x'], bins='auto', color=colors[0], lw=2)\n",
    "ext_cnt = np.insert(cnt, 0, cnt[0])\n",
    "centers = 0.5 * (bins[1:] + bins[:-1])\n",
    "cnt_gen, *_ = axs.ax_marg_x.hist(df_gen['x'], bins=bins, histtype='step', lw=3, color=colors[1], ls='--')\n",
    "\n",
    "cnt, bins, _ = axs.ax_marg_y.hist(df['y'], bins='auto', color=colors[0], orientation='horizontal')\n",
    "ext_cnt = np.insert(cnt, 0, cnt[0])\n",
    "centers = 0.5 * (bins[1:] + bins[:-1])\n",
    "cnt_gen, *_ = axs.ax_marg_y.hist(df_gen['y'], bins=bins, histtype='step', lw=3, color=colors[1], orientation='horizontal', ls='--')\n",
    "\n",
    "axs.ax_joint.set_xlim(-2.0, 2.0)\n",
    "axs.ax_joint.set_ylim(-2.0, 2.0)\n",
    "axs.ax_joint.yaxis.set_ticks([-2, -2,  -1, 0, 1, 2])\n",
    "axs.ax_joint.xaxis.set_ticks([-2, -2,  -1, 0, 1, 2])\n",
    "axs.ax_joint.tick_params(labelsize=14)\n",
    "if SAVE_PLOTS:\n",
    "    axs.savefig(f'{dataset_name}_joint_marginal_with_sample_contours.pdf', dpi=600, bbox_inches='tight')"
   ]
  },
  {
   "cell_type": "markdown",
   "metadata": {},
   "source": [
    "#### Fig 1e Weight BN"
   ]
  },
  {
   "cell_type": "code",
   "execution_count": null,
   "metadata": {},
   "outputs": [],
   "source": [
    "nbins = 10\n",
    "bin_width = 1. / nbins\n",
    "X_num_discrete = np.floor(X_u / bin_width)\n",
    "X_num_discrete[X_num_discrete >= nbins] = nbins - 1  # correct for values at 1.\n",
    "\n",
    "df_dis = pd.DataFrame(X_num_discrete)\n",
    "# \"tan\" bayesian network needs string column names\n",
    "df_dis.columns = [str(c) for c in df_dis.columns]\n",
    "est = TreeSearch(df_dis, root_node=df_dis.columns[0])\n",
    "dag = est.estimate(\n",
    "    estimator_type=\"tan\",\n",
    "    class_node='1',\n",
    "    show_progress=False,\n",
    "    edge_weights_fn='mutual_info'\n",
    ")\n",
    "# model the conditional probabilities\n",
    "bn = BayesianModel(dag.edges())\n",
    "bn.fit(df_dis)\n",
    "bn_prob = BayesianModelProbability(bn)\n",
    "bn_ordering = [str(i) for i in range(df_dis.shape[1])]\n",
    "\n",
    "\n",
    "x = np.arange(0, nbins, 1)\n",
    "xx, yy = np.meshgrid(x, x)\n",
    "X_grid = np.hstack((yy.reshape(nbins ** 2, 1), xx.reshape(nbins ** 2, 1)[::-1]))\n",
    "P_grid = np.exp(bn_prob.log_probability(X_grid)).reshape(nbins, nbins)\n",
    "weight_grid = P_grid / ( 1 / (nbins ** 2))"
   ]
  },
  {
   "cell_type": "code",
   "execution_count": null,
   "metadata": {},
   "outputs": [],
   "source": [
    "axs = sns.JointGrid(data=tdf, x='x', y='y', height=7)\n",
    "sns.heatmap(weight_grid, vmin=0, vmax=weight_grid.max(), fmt='.2f', cmap='Blues', cbar=False, ax=axs.ax_joint, annot=weight_grid, annot_kws={'fontsize': 14})\n",
    "cnt, bins, _ = axs.ax_marg_x.hist(X_num_discrete[:, 0], bins=np.arange(0, nbins + 1), color=colors[0])\n",
    "cnt, bins, _ = axs.ax_marg_y.hist(X_num_discrete[:, 1], bins=np.arange(0, nbins + 1), color=colors[0], orientation='horizontal')\n",
    "axs.ax_joint.tick_params(labelsize=14)\n",
    "axs.ax_joint.set_xlabel('')\n",
    "axs.ax_joint.set_ylabel('')\n",
    "axs.ax_joint.set_aspect(\"equal\")\n",
    "axs.ax_joint.xaxis.set_major_locator(ticker.MultipleLocator(2))\n",
    "axs.ax_joint.set_xticklabels([0.0, 0.0, 0.2, 0.4, 0.6, 0.8, 1.0])\n",
    "axs.ax_joint.yaxis.set_major_locator(ticker.MultipleLocator(2))\n",
    "axs.ax_joint.set_yticklabels([1.0, 1.0, 0.8, 0.6, 0.4, 0.2, 0.0])\n",
    "if SAVE_PLOTS:\n",
    "    axs.savefig(f'{dataset_name}_discrete_uniform_bn_weights_annotated.pdf', dpi=600, bbox_inches='tight')"
   ]
  }
 ],
 "metadata": {
  "kernelspec": {
   "display_name": "Python 3",
   "language": "python",
   "name": "python3"
  },
  "language_info": {
   "codemirror_mode": {
    "name": "ipython",
    "version": 3
   },
   "file_extension": ".py",
   "mimetype": "text/x-python",
   "name": "python",
   "nbconvert_exporter": "python",
   "pygments_lexer": "ipython3",
   "version": "3.6.9"
  }
 },
 "nbformat": 4,
 "nbformat_minor": 4
}
